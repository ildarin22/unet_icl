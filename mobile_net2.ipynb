{
 "cells": [
  {
   "cell_type": "code",
   "execution_count": null,
   "metadata": {},
   "outputs": [],
   "source": [
    "import os\n",
    "import numpy as np\n",
    "from glob import glob\n",
    "from PIL import Image\n",
    "import matplotlib.pyplot as plt\n",
    "\n",
    "from sklearn.model_selection import train_test_split\n",
    "\n",
    "from keras.utils import to_categorical\n",
    "from keras.preprocessing.image import ImageDataGenerator\n",
    "from keras.callbacks import ModelCheckpoint\n",
    "\n",
    "from preporces_utils import import_image, preprocess_image, load_data_generator, get_labels\n",
    "from model import build_model\n",
    "from unet_seg.plot import plotting"
   ]
  },
  {
   "cell_type": "code",
   "execution_count": 2,
   "metadata": {},
   "outputs": [],
   "source": [
    "plt.style.use(\"ggplot\")\n",
    "SIZE = 96\n",
    "path = 'D:\\\\ds\\\\whiskey\\\\whisky_labels\\\\train\\\\'\n",
    "\n",
    "train_images =glob(\"D:\\\\ds\\\\whiskey\\\\whisky_labels\\\\train\\\\**\\\\*.jpg\", recursive=True)\n",
    "test_images = glob(\"D:\\\\ds\\\\whiskey\\\\whisky_labels\\\\test\\\\**\\\\*.jpg\", recursive=True)\n",
    "whisky_labels = next(os.walk(path))[1]\n",
    "\n",
    "y = get_labels(whisky_labels, path)\n",
    "X = np.array([import_image(img, SIZE) for img in train_images])\n",
    "X_train, X_valid, y_train, y_valid = train_test_split(X, y, test_size=0.15, random_state=2018)"
   ]
  },
  {
   "cell_type": "code",
   "execution_count": 3,
   "metadata": {},
   "outputs": [],
   "source": [
    "x_train_norm = X_train / 255\n",
    "x_test_norm = X_valid / 255\n",
    "encoded_y_train = to_categorical(y_train, num_classes=10, dtype='float32')\n",
    "encoded_y_test = to_categorical(y_valid, num_classes=10, dtype='float32')"
   ]
  },
  {
   "cell_type": "code",
   "execution_count": 17,
   "metadata": {},
   "outputs": [],
   "source": [
    " callbacks = [\n",
    "        ModelCheckpoint('model-mn2.h5', verbose=1, monitor='loss', save_best_only=True)\n",
    "    ]\n",
    "    \n",
    "train_generator = load_data_generator(x_train_norm, encoded_y_train, SIZE, batch_size=30)\n",
    "test_generator = load_data_generator(x_test_norm, encoded_y_test,  SIZE, batch_size=10)\n"
   ]
  },
  {
   "cell_type": "code",
   "execution_count": null,
   "metadata": {},
   "outputs": [],
   "source": [
    "model = build_model(SIZE,SIZE)"
   ]
  },
  {
   "cell_type": "code",
   "execution_count": 19,
   "metadata": {},
   "outputs": [
    {
     "name": "stdout",
     "output_type": "stream",
     "text": [
      "Epoch 1/2\n",
      "5/5 [==============================] - 22s 4s/step - loss: 0.6194 - categorical_accuracy: 0.8320\n",
      "Epoch 2/2\n",
      "5/5 [==============================] - 14s 3s/step - loss: 0.0016 - categorical_accuracy: 1.0000\n"
     ]
    }
   ],
   "source": [
    "tr_res = model.fit_generator(\n",
    "    generator=train_generator,\n",
    "    steps_per_epoch=5,\n",
    "    epochs=2\n",
    "#     callbacks=callbacks\n",
    ")"
   ]
  },
  {
   "cell_type": "code",
   "execution_count": 20,
   "metadata": {
    "scrolled": true
   },
   "outputs": [
    {
     "name": "stdout",
     "output_type": "stream",
     "text": [
      "500/500 [==============================] - 63s 126ms/step\n"
     ]
    }
   ],
   "source": [
    "ev_res = model.evaluate_generator(generator=test_generator,\n",
    "                         steps=500,\n",
    "                         verbose=1)"
   ]
  },
  {
   "cell_type": "code",
   "execution_count": 26,
   "metadata": {},
   "outputs": [
    {
     "data": {
      "text/plain": [
       "3.56631613445282"
      ]
     },
     "execution_count": 26,
     "metadata": {},
     "output_type": "execute_result"
    }
   ],
   "source": [
    "ev_res[0]"
   ]
  },
  {
   "cell_type": "code",
   "execution_count": 28,
   "metadata": {
    "scrolled": true
   },
   "outputs": [
    {
     "data": {
      "image/png": "[encoded data removed]",
      "text/plain": [
       "<Figure size 576x576 with 1 Axes>"
      ]
     },
     "metadata": {
      "needs_background": "light"
     },
     "output_type": "display_data"
    }
   ],
   "source": [
    "%matplotlib inline\n",
    "plt.figure(figsize=(8, 8))\n",
    "plt.plot(tr_res.history[\"loss\"], label=\"loss\")\n",
    "plt.plot([10,ev_res[0]], label=\"val_loss\")\n",
    "plt.xlabel(\"Epochs\")\n",
    "plt.ylabel(\"log_loss\")\n",
    "plt.legend()\n",
    "plt.show()"
   ]
  },
  {
   "cell_type": "code",
   "execution_count": 30,
   "metadata": {},
   "outputs": [],
   "source": [
    "model_name = \"tf_serving_keras_mobilenetv2\"\n",
    "model.save(f\"models/{model_name}.h5\")"
   ]
  },
  {
   "cell_type": "code",
   "execution_count": null,
   "metadata": {},
   "outputs": [],
   "source": []
  }
 ],
 "metadata": {
  "kernelspec": {
   "display_name": "Python 3",
   "language": "python",
   "name": "python3"
  },
  "language_info": {
   "codemirror_mode": {
    "name": "ipython",
    "version": 3
   },
   "file_extension": ".py",
   "mimetype": "text/x-python",
   "name": "python",
   "nbconvert_exporter": "python",
   "pygments_lexer": "ipython3",
   "version": "3.6.8"
  }
 },
 "nbformat": 4,
 "nbformat_minor": 2
}
