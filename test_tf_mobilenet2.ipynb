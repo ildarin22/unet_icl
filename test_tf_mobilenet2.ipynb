{
 "cells": [
  {
   "cell_type": "code",
   "execution_count": 18,
   "metadata": {},
   "outputs": [],
   "source": [
    "import requests\n",
    "import json\n",
    "import sys\n",
    "from PIL import Image\n",
    "import numpy as np\n",
    "\n",
    "from preporces_utils import preprocess_image"
   ]
  },
  {
   "cell_type": "code",
   "execution_count": 19,
   "metadata": {},
   "outputs": [],
   "source": [
    "labels = ['ardmore', 'bowmore', 'dalmore', 'grendullan', 'inchgower', 'knockando', 'linkwood', 'longmorn', 'macallan', 'scapa']"
   ]
  },
  {
   "cell_type": "code",
   "execution_count": 27,
   "metadata": {},
   "outputs": [],
   "source": [
    "image_path = 'D:\\\\ds\\\\whiskey\\\\whisky_labels\\\\test\\\\dalmore\\\\1.jpg' # test"
   ]
  },
  {
   "cell_type": "code",
   "execution_count": 28,
   "metadata": {},
   "outputs": [],
   "source": [
    "# image_path = 'D:\\\\ds\\\\whiskey\\\\whisky_labels\\\\train\\\\dalmore\\\\1.jpg' # train "
   ]
  },
  {
   "cell_type": "code",
   "execution_count": 29,
   "metadata": {
    "scrolled": true
   },
   "outputs": [
    {
     "name": "stdout",
     "output_type": "stream",
     "text": [
      "(96, 96, 3)\n"
     ]
    }
   ],
   "source": [
    "image = Image.open(image_path).convert('L')\n",
    "image.thumbnail((96,96))\n",
    "image = preprocess_image(np.array(image), 96)\n",
    "print(image.shape)"
   ]
  },
  {
   "cell_type": "code",
   "execution_count": 30,
   "metadata": {},
   "outputs": [],
   "source": [
    "url = \"http://localhost:8501\"\n",
    "# full_url = f\"{url}/v1/models/tf_serving_keras_mobilenetv2/versions/1:predict\"\n",
    "full_url = f\"{url}/v1/models/tf_serving_keras_mobilenetv2_idg/versions/1:predict\"\n",
    "\n",
    "data = {\"signature_name\":\"prediction\",\n",
    "        \"instances\":[{\"images\":image.tolist()}]}\n",
    "data = json.dumps(data)"
   ]
  },
  {
   "cell_type": "code",
   "execution_count": 31,
   "metadata": {},
   "outputs": [
    {
     "name": "stdout",
     "output_type": "stream",
     "text": [
      "[[0.00855128, 0.00515506, 0.066143, 0.0078152, 0.00845612, 0.00254618, 0.00232741, 0.108383, 0.00554995, 0.785073]]\n",
      "0.785073 9 scapa\n"
     ]
    }
   ],
   "source": [
    "response = requests.post(full_url,data=data)\n",
    "response = response.json()\n",
    "highest_index = np.argmax(response['predictions'])\n",
    "print(response['predictions'])\n",
    "print(np.max(response['predictions']), highest_index, labels[highest_index])"
   ]
  },
  {
   "cell_type": "code",
   "execution_count": null,
   "metadata": {},
   "outputs": [],
   "source": []
  }
 ],
 "metadata": {
  "kernelspec": {
   "display_name": "Python 3",
   "language": "python",
   "name": "python3"
  },
  "language_info": {
   "codemirror_mode": {
    "name": "ipython",
    "version": 3
   },
   "file_extension": ".py",
   "mimetype": "text/x-python",
   "name": "python",
   "nbconvert_exporter": "python",
   "pygments_lexer": "ipython3",
   "version": "3.6.8"
  }
 },
 "nbformat": 4,
 "nbformat_minor": 2
}
